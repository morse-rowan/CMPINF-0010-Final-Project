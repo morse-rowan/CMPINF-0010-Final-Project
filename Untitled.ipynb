{
 "cells": [
  {
   "cell_type": "markdown",
   "id": "7a2f366b-4144-4f10-8ec6-daa9dc56d546",
   "metadata": {},
   "source": [
    "# Introduction"
   ]
  },
  {
   "cell_type": "markdown",
   "id": "81f3b9b1-9c68-44a7-9c04-160417aacb7a",
   "metadata": {},
   "source": [
    "#### In our project we wanted to focus on quality of life/health as our metric. Therefore we looked at streets with trees, the number of years of residence and Fire Hazards to understand how quality of life is in different Pittsburgh neighborhoods."
   ]
  },
  {
   "cell_type": "markdown",
   "id": "7a4a7c2f-15a7-4675-bf97-a183116311cd",
   "metadata": {},
   "source": [
    "## This was our residence chart"
   ]
  },
  {
   "cell_type": "code",
   "execution_count": 30,
   "id": "99b22e31-074b-41ee-a0ce-aa10c8475ba5",
   "metadata": {},
   "outputs": [
    {
     "ename": "ModuleNotFoundError",
     "evalue": "No module named 'geopandas'",
     "output_type": "error",
     "traceback": [
      "\u001b[1;31m---------------------------------------------------------------------------\u001b[0m",
      "\u001b[1;31mModuleNotFoundError\u001b[0m                       Traceback (most recent call last)",
      "Cell \u001b[1;32mIn[30], line 2\u001b[0m\n\u001b[0;32m      1\u001b[0m \u001b[38;5;28;01mimport\u001b[39;00m \u001b[38;5;21;01mpandas\u001b[39;00m \u001b[38;5;28;01mas\u001b[39;00m \u001b[38;5;21;01mpd\u001b[39;00m\n\u001b[1;32m----> 2\u001b[0m \u001b[38;5;28;01mimport\u001b[39;00m \u001b[38;5;21;01mgeopandas\u001b[39;00m\n\u001b[0;32m      3\u001b[0m get_ipython()\u001b[38;5;241m.\u001b[39mrun_line_magic(\u001b[38;5;124m'\u001b[39m\u001b[38;5;124mmatplotlib\u001b[39m\u001b[38;5;124m'\u001b[39m, \u001b[38;5;124m'\u001b[39m\u001b[38;5;124minline\u001b[39m\u001b[38;5;124m'\u001b[39m)\n",
      "\u001b[1;31mModuleNotFoundError\u001b[0m: No module named 'geopandas'"
     ]
    }
   ],
   "source": [
    "import pandas as pd\n",
    "import geopandas\n",
    "%matplotlib inline"
   ]
  },
  {
   "cell_type": "code",
   "execution_count": 18,
   "id": "04f86537-2d49-4c2d-8a93-eb056fd65756",
   "metadata": {},
   "outputs": [],
   "source": [
    "data = pd.read_csv(\"snapdata.csv\")"
   ]
  },
  {
   "cell_type": "code",
   "execution_count": 21,
   "id": "e5c56b9c-45a3-4fb8-ba78-4ee7a74d80b1",
   "metadata": {
    "scrolled": true
   },
   "outputs": [
    {
     "data": {
      "text/plain": [
       "Neighborhood_2010_HOOD\n",
       "Chartiers City               32\n",
       "East Carnegie                30\n",
       "New Homestead                19\n",
       "Beltzhoover                  17\n",
       "South Shore                  16\n",
       "                             ..\n",
       "Friendship                    0\n",
       "Chateau                       0\n",
       "Central Oakland               0\n",
       "Central Business District     0\n",
       "Allegheny Center              0\n",
       "Name: Est__Avg__Yrs__of_Residence__20, Length: 90, dtype: int64"
      ]
     },
     "execution_count": 21,
     "metadata": {},
     "output_type": "execute_result"
    }
   ],
   "source": [
    "num_years = data.groupby(\"Neighborhood_2010_HOOD\").sum()['Est__Avg__Yrs__of_Residence__20']\n",
    "years_sorted = num_years.sort_values(ascending=False)\n",
    "years_sorted"
   ]
  },
  {
   "cell_type": "code",
   "execution_count": 28,
   "id": "1a975dd8-659c-475f-8c08-2cd68141b37a",
   "metadata": {},
   "outputs": [
    {
     "ename": "NameError",
     "evalue": "name 'geopandas' is not defined",
     "output_type": "error",
     "traceback": [
      "\u001b[1;31m---------------------------------------------------------------------------\u001b[0m",
      "\u001b[1;31mNameError\u001b[0m                                 Traceback (most recent call last)",
      "Cell \u001b[1;32mIn[28], line 1\u001b[0m\n\u001b[1;32m----> 1\u001b[0m neighborhoods \u001b[38;5;241m=\u001b[39m geopandas\u001b[38;5;241m.\u001b[39mread_file(\u001b[38;5;124m\"\u001b[39m\u001b[38;5;124mNeighborhoods/Neighborhoods_.shp\u001b[39m\u001b[38;5;124m\"\u001b[39m) \u001b[38;5;66;03m# read in the shapefile\u001b[39;00m\n\u001b[0;32m      2\u001b[0m year_map \u001b[38;5;241m=\u001b[39m neighborhoods\u001b[38;5;241m.\u001b[39mmerge(num_years, how\u001b[38;5;241m=\u001b[39m\u001b[38;5;124m'\u001b[39m\u001b[38;5;124mleft\u001b[39m\u001b[38;5;124m'\u001b[39m, left_on\u001b[38;5;241m=\u001b[39m\u001b[38;5;124m'\u001b[39m\u001b[38;5;124mhood\u001b[39m\u001b[38;5;124m'\u001b[39m, right_on\u001b[38;5;241m=\u001b[39m\u001b[38;5;124m'\u001b[39m\u001b[38;5;124mNeighborhood_2010_HOOD\u001b[39m\u001b[38;5;124m'\u001b[39m)\n\u001b[0;32m      3\u001b[0m year_map[[\u001b[38;5;124m'\u001b[39m\u001b[38;5;124mhood\u001b[39m\u001b[38;5;124m'\u001b[39m,\u001b[38;5;124m'\u001b[39m\u001b[38;5;124mEst__Avg__Yrs__of_Residence__20\u001b[39m\u001b[38;5;124m'\u001b[39m,\u001b[38;5;124m'\u001b[39m\u001b[38;5;124mgeometry\u001b[39m\u001b[38;5;124m'\u001b[39m]]\u001b[38;5;241m.\u001b[39mhead()\n",
      "\u001b[1;31mNameError\u001b[0m: name 'geopandas' is not defined"
     ]
    }
   ],
   "source": [
    "neighborhoods = geopandas.read_file(\"Neighborhoods/Neighborhoods_.shp\") # read in the shapefile\n",
    "year_map = neighborhoods.merge(num_years, how='left', left_on='hood', right_on='Neighborhood_2010_HOOD')\n",
    "year_map[['hood','Est__Avg__Yrs__of_Residence__20','geometry']].head()\n",
    "year_map.plot(column='Est__Avg__Yrs__of_Residence__20', # set the data to be used for coloring\n",
    "               cmap='Blues',              # choose a color palette\n",
    "               edgecolor=\"Black\",        # outline the districts in white\n",
    "               legend=True,              # show the legend\n",
    "               legend_kwds={'label': \"Average Time of Residence (years)\"}, # label the legend\n",
    "               missing_kwds={\"color\": \"lightgrey\"} # set disctricts with no data to gray\n",
    "             )"
   ]
  },
  {
   "cell_type": "markdown",
   "id": "247bb964-75ea-4faa-9519-2ca9afe74fcf",
   "metadata": {},
   "source": [
    "#### For average years of residence, Chartiers city was the best, closely followed by East Carnegie. Many of the people here have lived here for over 30 years, which is far greater than any other neighborhood in Pittsburgh."
   ]
  },
  {
   "cell_type": "markdown",
   "id": "bdfebdc0-ce56-407d-9099-032955212856",
   "metadata": {},
   "source": [
    "#### For amount of trees, Squirrel Hill south and north were also the best, meaning that in two categories they both led in a big way. This shows that quality of life and making the people who live in these areas really enjoy the place and community they live in is important to these neighborhoods."
   ]
  },
  {
   "cell_type": "markdown",
   "id": "3524fa94-0d5d-4f70-98a6-1c7ad998507b",
   "metadata": {},
   "source": [
    "#### For Fire Hazard safety, Mount Oliver led. East Carnegie also showed up as third."
   ]
  },
  {
   "cell_type": "markdown",
   "id": "6d875ee9-34de-4554-ba20-b9aa89dffbcd",
   "metadata": {},
   "source": [
    "#### It could be argued that East Carnegie is the best neighborhood to live in because it has a high average time of residence and also has very low Fire Hazards. "
   ]
  },
  {
   "cell_type": "code",
   "execution_count": null,
   "id": "76dffcf6-525e-43b3-a413-58f310b69661",
   "metadata": {},
   "outputs": [],
   "source": []
  }
 ],
 "metadata": {
  "kernelspec": {
   "display_name": "Python 3 (ipykernel)",
   "language": "python",
   "name": "python3"
  },
  "language_info": {
   "codemirror_mode": {
    "name": "ipython",
    "version": 3
   },
   "file_extension": ".py",
   "mimetype": "text/x-python",
   "name": "python",
   "nbconvert_exporter": "python",
   "pygments_lexer": "ipython3",
   "version": "3.12.4"
  }
 },
 "nbformat": 4,
 "nbformat_minor": 5
}
